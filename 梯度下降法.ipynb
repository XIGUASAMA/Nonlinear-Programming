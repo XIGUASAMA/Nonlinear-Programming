{
 "cells": [
  {
   "cell_type": "code",
   "execution_count": 1,
   "metadata": {},
   "outputs": [],
   "source": [
    "import numpy as np\n",
    "from sympy import *\n",
    "import sys\n",
    "import re"
   ]
  },
  {
   "cell_type": "code",
   "execution_count": 2,
   "metadata": {},
   "outputs": [
    {
     "name": "stdout",
     "output_type": "stream",
     "text": [
      "[\"x1=symbols('x1')\", \"x2=symbols('x2')\", 'min=x1**2+x2**2-x1*x2-10*x1-4*x2+60', '0.001']\n",
      "2\n"
     ]
    }
   ],
   "source": [
    "f=open(\"input.txt\", \"r\", encoding=\"utf-8-sig\")\n",
    "str_f=f.read()\n",
    "f.close()\n",
    "text=[]\n",
    "text=str_f.split(\"\\n\")\n",
    "variable_number = len(text)-2\n",
    "\n",
    "print(text)\n",
    "print(variable_number)"
   ]
  },
  {
   "cell_type": "code",
   "execution_count": 3,
   "metadata": {},
   "outputs": [
    {
     "data": {
      "text/plain": [
       "'min=x1**2+x2**2-x1*x2-10*x1-4*x2+60'"
      ]
     },
     "execution_count": 3,
     "metadata": {},
     "output_type": "execute_result"
    }
   ],
   "source": [
    "if \"max\" in text[-2]:\n",
    "    temp_str=text[-2].replace(\"-\",\"+\")\n",
    "    temp_list=[]\n",
    "    for i in range(len(text[-2])):\n",
    "        if temp_str[i] == \"+\" and text[-2][i] == \"+\":\n",
    "            temp_list.append(\"-\")\n",
    "        else:\n",
    "            temp_list.append(temp_str[i])\n",
    "    text[-2]=''.join(temp_list)\n",
    "    if \"max=+\" not in text[-2]:\n",
    "        text[-2]=text[-2].replace(\"max=\",\"max=-\")\n",
    "text[-2]"
   ]
  },
  {
   "cell_type": "code",
   "execution_count": 4,
   "metadata": {},
   "outputs": [
    {
     "name": "stdout",
     "output_type": "stream",
     "text": [
      "x1**2 - x1*x2 - 10*x1 + x2**2 - 4*x2 + 60\n",
      "(2*x1 - x2 - 10, -x1 + 2*x2 - 4)\n",
      "0.001\n"
     ]
    }
   ],
   "source": [
    "names = locals()\n",
    "for i in range(0,variable_number):\n",
    "    exec(text[i])\n",
    "    \n",
    "y = eval(text[-2][4:])\n",
    "print(y)\n",
    "\n",
    "Epsilon = float(text[-1])\n",
    "\n",
    "Derivative=[]\n",
    "for i in range(0,variable_number):\n",
    "    Derivative.append(diff(y,names['x' + str(i+1)]))\n",
    "Derivative = tuple(Derivative)\n",
    "    \n",
    "print(Derivative)\n",
    "print(Epsilon)"
   ]
  },
  {
   "cell_type": "code",
   "execution_count": 5,
   "metadata": {},
   "outputs": [
    {
     "name": "stdout",
     "output_type": "stream",
     "text": [
      "{x1: 0, x2: 0}\n"
     ]
    }
   ],
   "source": [
    "position_dict={}\n",
    "for i in range(0,variable_number):\n",
    "    position_dict[names['x' + str(i+1)]]=0\n",
    "print(position_dict)\n",
    "position_dict[x1]=1\n",
    "#Grad=list(Derivative) "
   ]
  },
  {
   "cell_type": "code",
   "execution_count": 6,
   "metadata": {},
   "outputs": [
    {
     "name": "stdout",
     "output_type": "stream",
     "text": [
      "[-8.00000000000000, -5.00000000000000]\n",
      "9.433981132056603\n",
      "[0.8479983  0.52999894]\n",
      "{x1: 0.847998304005088*h + 1, x2: 0.52999894000318*h}\n",
      "0.280898876404494*h**2 - 0.52999894000318*h*(0.847998304005088*h + 1) - 10.5999788000636*h + (0.847998304005088*h + 1)**2 + 50\n",
      "1.10112359550562*h - 9.4339811320566\n",
      "8.56759510972486\n",
      "{x1: 8.26530612244896, x2: 4.54081632653060}\n",
      "\n",
      "\n",
      "[1.98979591836732, -3.18367346938776]\n",
      "3.754339430104149\n",
      "[-0.52999894  0.8479983 ]\n",
      "{x1: 8.26530612244896 - 0.529998940003175*h, x2: 0.847998304005091*h + 4.5408163265306}\n",
      "1.90799618401139*h + (8.26530612244896 - 0.529998940003175*h)**2 - (8.26530612244896 - 0.529998940003175*h)*(0.847998304005091*h + 4.5408163265306) + (0.847998304005091*h + 4.5408163265306)**2 - 40.816326530612\n",
      "2.89887640449438*h - 3.75433943010415\n",
      "1.29510158635376\n",
      "{x1: 7.57890365448504, x2: 5.63906027527289}\n",
      "\n",
      "\n",
      "[-0.481252966302812, -0.300783103939255]\n",
      "0.5675164254808731\n",
      "[0.8479983  0.52999894]\n",
      "{x1: 0.84799830400509*h + 7.57890365448504, x2: 0.529998940003177*h + 5.63906027527289}\n",
      "-10.5999788000636*h + (0.529998940003177*h + 5.63906027527289)**2 - (0.529998940003177*h + 5.63906027527289)*(0.84799830400509*h + 7.57890365448504) + (0.84799830400509*h + 7.57890365448504)**2 - 38.345277645942\n",
      "1.10112359550562*h - 0.567516425480871\n",
      "0.515397570079566\n",
      "{x1: 8.01595991980086, x2: 5.91222044109528}\n",
      "\n",
      "\n",
      "[0.119699398506437, -0.191519037610306]\n",
      "0.22584837340565578\n",
      "[-0.52999894  0.8479983 ]\n",
      "{x1: 8.01595991980086 - 0.529998940003169*h, x2: 0.847998304005095*h + 5.91222044109528}\n",
      "1.90799618401131*h + (8.01595991980086 - 0.529998940003169*h)**2 - (8.01595991980086 - 0.529998940003169*h)*(0.847998304005095*h + 5.91222044109528) + (0.847998304005095*h + 5.91222044109528)**2 - 43.8084809623897\n",
      "2.89887640449437*h - 0.225848373405655\n",
      "0.0779089350120286\n",
      "{x1: 7.97466826682771, x2: 5.97828708585232}\n",
      "\n",
      "\n",
      "[-0.0289505521969087, -0.0180940951230673]\n",
      "0.03413987039853168\n",
      "[0.8479983  0.52999894]\n",
      "{x1: 0.847998304005097*h + 7.97466826682771, x2: 0.529998940003166*h + 5.97828708585232}\n",
      "-10.5999788000636*h + (0.529998940003166*h + 5.97828708585232)**2 - (0.529998940003166*h + 5.97828708585232)*(0.847998304005097*h + 7.97466826682771) + (0.847998304005097*h + 7.97466826682771)**2 - 43.6598310116863\n",
      "1.10112359550563*h - 0.0341398703985316\n",
      "0.0310045761782580\n",
      "{x1: 8.00096009484326, x2: 5.99471947836204}\n",
      "\n",
      "\n",
      "[0.00720071132448652, -0.0115211381191784]\n",
      "0.013586274954518428\n",
      "[-0.52999894  0.8479983 ]\n",
      "{x1: 8.00096009484326 - 0.52999894000318*h, x2: 0.847998304005088*h + 5.99471947836204}\n",
      "1.90799618401145*h + (8.00096009484326 - 0.52999894000318*h)**2 - (8.00096009484326 - 0.52999894000318*h)*(0.847998304005088*h + 5.99471947836204) + (0.847998304005088*h + 5.99471947836204)**2 - 43.9884788618808\n",
      "2.89887640449438*h - 0.013586274954517\n",
      "0.00468673825950393\n",
      "{x1: 7.99847612853366, x2: 5.99869382445742}\n",
      "\n",
      "\n",
      "[-0.00174156739010645, -0.00108847961881953]\n",
      "0.0020537392373102484\n",
      "[0.8479983  0.52999894]\n",
      "{x1: 0.847998304004432*h + 7.99847612853366, x2: 0.52999894000423*h + 5.99869382445742}\n",
      "-10.5999788000612*h + (0.52999894000423*h + 5.99869382445742)**2 - (0.52999894000423*h + 5.99869382445742)*(0.847998304004432*h + 7.99847612853366) + (0.847998304004432*h + 7.99847612853366)**2 - 43.9795365831662\n",
      "1.10112359550453*h - 0.00205373923731145\n",
      "0.00186513053184591\n",
      "{x1: 8.00005775606141, x2: 5.99968234166227}\n",
      "\n",
      "\n",
      "[0.000433170460548027, -0.000693072736874356]\n",
      "0.0008173043903527621\n",
      "{x1: 8.00005775606141, x2: 5.99968234166227}\n",
      "8.00000012258928\n"
     ]
    }
   ],
   "source": [
    "while(1):\n",
    "    Grad=list(Derivative)\n",
    "    for i in range(0,variable_number):\n",
    "        Grad[i]=Grad[i].evalf(subs =position_dict)\n",
    "    print(Grad)\n",
    "    Grad_np=np.array(Grad, dtype='float64')\n",
    "    abs_Grad_np=float(np.linalg.norm(Grad_np))\n",
    "    print(abs_Grad_np)\n",
    "    if abs_Grad_np<Epsilon:\n",
    "        Objective_value=y.evalf(subs =position_dict)\n",
    "        if \"max\" in text[-2]:\n",
    "            Objective_value = -Objective_value\n",
    "        print(position_dict)\n",
    "        print(Objective_value)\n",
    "        break;\n",
    "    P=-(Grad_np/abs_Grad_np)\n",
    "    print(P)\n",
    "\n",
    "    h=symbols('h')\n",
    "    X_hP={}\n",
    "    for i in range(0,variable_number):\n",
    "        X_hP[names['x' + str(i+1)]]=position_dict[names['x' + str(i+1)]]+h*P[i]\n",
    "    print(X_hP)\n",
    "    minf=y.subs(X_hP)\n",
    "    print(minf)\n",
    "    der_minf=diff(minf,h)\n",
    "    print(der_minf)\n",
    "    h_solution=solve(der_minf,h)[0]\n",
    "    print(h_solution)\n",
    "    for i in range(0,variable_number):\n",
    "        position_dict[names['x' + str(i+1)]]=position_dict[names['x' + str(i+1)]]+h_solution*P[i]\n",
    "    print(position_dict)\n",
    "    print(\"\\n\")"
   ]
  },
  {
   "cell_type": "code",
   "execution_count": 7,
   "metadata": {},
   "outputs": [],
   "source": [
    "f=open(\"output.txt\", \"w\", encoding=\"utf-8\")\n",
    "f.truncate()\n",
    "f.write(\"Status: Local optimal solution found.\"+\"\\n\")\n",
    "for i in range(0,variable_number):\n",
    "    f.write('x' + str(i+1)+': ')\n",
    "    f.write(\"%.3f\" %position_dict[names['x' + str(i+1)]])\n",
    "    f.write(\"\\n\")\n",
    "f.write(\"Objective value: \"+\"%.3f\"%Objective_value+\"\\n\")\n",
    "f.write(\"Epsilon: \"+str(Epsilon))\n",
    "f.close()"
   ]
  },
  {
   "cell_type": "code",
   "execution_count": null,
   "metadata": {},
   "outputs": [],
   "source": []
  }
 ],
 "metadata": {
  "kernelspec": {
   "display_name": "Python 3",
   "language": "python",
   "name": "python3"
  },
  "language_info": {
   "codemirror_mode": {
    "name": "ipython",
    "version": 3
   },
   "file_extension": ".py",
   "mimetype": "text/x-python",
   "name": "python",
   "nbconvert_exporter": "python",
   "pygments_lexer": "ipython3",
   "version": "3.7.3"
  }
 },
 "nbformat": 4,
 "nbformat_minor": 2
}
